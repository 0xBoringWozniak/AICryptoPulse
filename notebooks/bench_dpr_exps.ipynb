{
 "cells": [
  {
   "cell_type": "code",
   "execution_count": 1,
   "id": "d7565074-331f-493b-852d-28332267b5ef",
   "metadata": {},
   "outputs": [],
   "source": [
    "!pip install datasets -q\n",
    "# !pip install bm25s[full] -q\n",
    "\n",
    "# # If you want to use stemming for better results, you can install a stemmer\n",
    "# !pip install PyStemmer -q\n",
    "\n",
    "# # To speed up the top-k selection process, you can install `jax`\n",
    "# !pip install jax[cpu] -q\n",
    "# !pip install lightning -q\n",
    "# !pip install hydra-core --upgrade -q\n",
    "!pip install -U datasets -q\n",
    "!pip install fsspec==2023.6.0 -q\n",
    "# !pip install memory-profiler -q\n",
    "!pip install safetensors>=0.4.3\n"
   ]
  },
  {
   "cell_type": "code",
   "execution_count": 2,
   "id": "3f15d5c1-f3b3-4d02-be0c-c82cfc87b55b",
   "metadata": {},
   "outputs": [],
   "source": [
    "!pip install matplotlib -q\n"
   ]
  },
  {
   "cell_type": "markdown",
   "id": "0e147ff2-7af6-4821-9ae9-37e9dccf7214",
   "metadata": {},
   "source": [
    "# Data"
   ]
  },
  {
   "cell_type": "markdown",
   "id": "1e1dbfc9-8261-49a2-8ba1-8fc6d30e4bf8",
   "metadata": {
    "jp-MarkdownHeadingCollapsed": true
   },
   "source": [
    "## Processing CryptOQA-2024 data"
   ]
  },
  {
   "cell_type": "code",
   "execution_count": 32,
   "id": "b0fabd9c-c3a1-4457-b55f-bc21f659fb0a",
   "metadata": {},
   "outputs": [
    {
     "data": {
      "application/vnd.jupyter.widget-view+json": {
       "model_id": "fcb94f7157644f299ebb4ed7b70da560",
       "version_major": 2,
       "version_minor": 0
      },
      "text/plain": [
       "QnA-TRAIN.csv:   0%|          | 0.00/40.3M [00:00<?, ?B/s]"
      ]
     },
     "metadata": {},
     "output_type": "display_data"
    },
    {
     "data": {
      "application/vnd.jupyter.widget-view+json": {
       "model_id": "43be222bd8b9479bad3125001f7a21c8",
       "version_major": 2,
       "version_minor": 0
      },
      "text/plain": [
       "Generating train split: 0 examples [00:00, ? examples/s]"
      ]
     },
     "metadata": {},
     "output_type": "display_data"
    }
   ],
   "source": [
    "from datasets import load_dataset\n",
    "\n",
    "train_qna_crypto_data = {\n",
    "    \"train\": \"QnA-TRAIN.csv\"\n",
    "}\n",
    "\n",
    "train_qna_data = load_dataset(\"itwastony/CryptOQA\", data_files=train_qna_crypto_data)\n"
   ]
  },
  {
   "cell_type": "code",
   "execution_count": 40,
   "id": "01234d81-682b-4fb9-bcf5-b5f4bf4a57e0",
   "metadata": {},
   "outputs": [],
   "source": [
    "train_qna_data_df = train_qna_data[\"train\"].to_pandas()\n"
   ]
  },
  {
   "cell_type": "code",
   "execution_count": 43,
   "id": "7f0abc03-c146-4540-896b-8645f8ed2fe5",
   "metadata": {},
   "outputs": [],
   "source": [
    "qna_relevant = train_qna_data_df[train_qna_data_df.relevance == 1]\n"
   ]
  },
  {
   "cell_type": "code",
   "execution_count": 58,
   "id": "d637e3de-c3eb-49da-972e-632aee688efd",
   "metadata": {},
   "outputs": [
    {
     "name": "stderr",
     "output_type": "stream",
     "text": [
      "/tmp/ipykernel_882765/1641044695.py:1: SettingWithCopyWarning: \n",
      "A value is trying to be set on a copy of a slice from a DataFrame.\n",
      "Try using .loc[row_indexer,col_indexer] = value instead\n",
      "\n",
      "See the caveats in the documentation: https://pandas.pydata.org/pandas-docs/stable/user_guide/indexing.html#returning-a-view-versus-a-copy\n",
      "  qna_relevant[\"comment_body_len\"] = [len(text) for text in qna_relevant.comment_body.tolist()]\n"
     ]
    }
   ],
   "source": [
    "qna_relevant[\"comment_body_len\"] = [len(text) for text in qna_relevant.comment_body.tolist()]\n"
   ]
  },
  {
   "cell_type": "code",
   "execution_count": 83,
   "id": "7ea720a3-405e-48f6-83fe-3b8e6bb989a3",
   "metadata": {},
   "outputs": [],
   "source": [
    "max_comment_len = 200\n",
    "\n",
    "filtered_data_qna = qna_relevant[(qna_relevant.comment_body_len >= max_comment_len)\n",
    "            & (qna_relevant.selftext != \"[removed]\")]\\\n",
    "    .dropna().copy()\n"
   ]
  },
  {
   "cell_type": "code",
   "execution_count": 88,
   "id": "60e52d7f-6912-4999-b6a1-989a0c13651c",
   "metadata": {},
   "outputs": [
    {
     "name": "stdout",
     "output_type": "stream",
     "text": [
      "looking for assistance with doge total noob here. i was gifted some dogecoin shortly after it came out and just found my old wallet on an old hard drive. i downloaded the new version of dogecoin core and followed a guide on how to get the address for the transaction. i just have no clue how to move this from my wallet to a trading app like robinhood. is that even possible? just trying to figure out how to sell it if i wanted to.\n"
     ]
    }
   ],
   "source": [
    "print(filtered_data_qna.MAIN.iloc[1])\n"
   ]
  },
  {
   "cell_type": "code",
   "execution_count": 89,
   "id": "e86b3cfb-4f6f-4713-83d9-28aa3479a426",
   "metadata": {},
   "outputs": [
    {
     "name": "stdout",
     "output_type": "stream",
     "text": [
      "First of all Congratulations,\\n\\nSecond of all I would recommend that you don't use Robinhood.\\n\\nTry moving your doge to a better reputable exchange that supports it , like binance and trade to any other coin or fiat pairing of your liking.\n"
     ]
    }
   ],
   "source": [
    "print(filtered_data_qna.comment_body.iloc[1])\n"
   ]
  },
  {
   "cell_type": "code",
   "execution_count": 92,
   "id": "887983c3-47fe-4bad-afd5-0eb3573802f1",
   "metadata": {},
   "outputs": [],
   "source": [
    "data_columns = [\n",
    "    \"MAIN\",\n",
    "    \"comment_body\"\n",
    "]\n",
    "\n",
    "crypto_qna_benchmark = filtered_data_qna[data_columns].copy()\n"
   ]
  },
  {
   "cell_type": "code",
   "execution_count": 94,
   "id": "b878b2de-7a59-4b1c-9997-5bedab401eec",
   "metadata": {},
   "outputs": [],
   "source": [
    "crypto_qna_benchmark.to_csv(\n",
    "    \"/share/a.tikhonov/datasets/other_exps/qna_filterd_benchmark.csv\",\n",
    "    index=False\n",
    ")\n"
   ]
  },
  {
   "cell_type": "markdown",
   "id": "f5a25490-4228-42c3-9858-0b1756201ecb",
   "metadata": {
    "jp-MarkdownHeadingCollapsed": true
   },
   "source": [
    "## CryptoQA data (*HemaChandrao/crypto_QA*)"
   ]
  },
  {
   "cell_type": "code",
   "execution_count": 6,
   "id": "b6ee4ebc-9829-4ddf-83ef-621fb3b796fb",
   "metadata": {},
   "outputs": [],
   "source": [
    "from datasets import load_dataset\n",
    "\n",
    "crypto_qa_hf_benchmark = load_dataset(\"HemaChandrao/crypto_QA\")\n"
   ]
  },
  {
   "cell_type": "code",
   "execution_count": 7,
   "id": "c09ff6c9-938c-4809-b187-ad132150a530",
   "metadata": {},
   "outputs": [],
   "source": [
    "queries = [crypto_qa_hf_benchmark[part][\"conversations\"][idx][0][\"content\"] \n",
    "           for part in [\"train\", \"validation\", \"test\"]\n",
    "           for idx in range(len(crypto_qa_hf_benchmark[part][\"conversations\"]))]\n",
    "\n",
    "answers = [crypto_qa_hf_benchmark[part][\"conversations\"][idx][1][\"content\"] \n",
    "           for part in [\"train\", \"validation\", \"test\"]\n",
    "           for idx in range(len(crypto_qa_hf_benchmark[part][\"conversations\"]))]\n"
   ]
  },
  {
   "cell_type": "code",
   "execution_count": 8,
   "id": "d1665179-ffba-4377-941a-80c6e5e47cfd",
   "metadata": {},
   "outputs": [],
   "source": [
    "import pandas as pd\n",
    "\n",
    "retrieval_bench = pd.DataFrame(\n",
    "    {\n",
    "        \"queries\": queries,\n",
    "        \"answers\": answers\n",
    "    }\n",
    ")\n"
   ]
  },
  {
   "cell_type": "code",
   "execution_count": 10,
   "id": "d6644493-73ef-4d7f-b4a3-5e1490feb0af",
   "metadata": {},
   "outputs": [],
   "source": [
    "retrieval_bench.to_csv(\n",
    "    \"/share/a.tikhonov/datasets/other_exps/rag_retrieve_bench.csv\",\n",
    "    index=False\n",
    ")\n"
   ]
  },
  {
   "cell_type": "markdown",
   "id": "b7220d96-a303-4e21-8872-47c423440964",
   "metadata": {},
   "source": [
    "## Data markup with Qwen"
   ]
  },
  {
   "cell_type": "code",
   "execution_count": 4,
   "id": "3641e32c-1bf7-4f90-bee0-30ff5cc992fd",
   "metadata": {},
   "outputs": [],
   "source": [
    "!pip install -U sentence-transformers -q\n",
    "!pip install -U transformers -q\n",
    "!pip install -U accelerate -q\n"
   ]
  },
  {
   "cell_type": "code",
   "execution_count": 16,
   "id": "632b9642-1bbb-4314-b683-0aba0c99cfa5",
   "metadata": {},
   "outputs": [],
   "source": [
    "import pandas as pd\n",
    "\n",
    "crypto_qna_benchmark = pd.read_csv(\n",
    "    \"/share/a.tikhonov/datasets/other_exps/qna_filtered_benchmark.csv\"\n",
    ")\n",
    "crypto_retrieve_bench = pd.read_csv(\n",
    "    \"/share/a.tikhonov/datasets/other_exps/rag_retrieve_bench.csv\"\n",
    ")\n"
   ]
  },
  {
   "cell_type": "code",
   "execution_count": 31,
   "id": "ca4d8ca3-520a-43f3-b7b6-887f582ae758",
   "metadata": {},
   "outputs": [
    {
     "data": {
      "application/vnd.jupyter.widget-view+json": {
       "model_id": "e95680c1b18846c4a8bd4df8fc733166",
       "version_major": 2,
       "version_minor": 0
      },
      "text/plain": [
       "config.json:   0%|          | 0.00/663 [00:00<?, ?B/s]"
      ]
     },
     "metadata": {},
     "output_type": "display_data"
    },
    {
     "data": {
      "application/vnd.jupyter.widget-view+json": {
       "model_id": "4900793a4a0d4bc6aba20e57f49a2384",
       "version_major": 2,
       "version_minor": 0
      },
      "text/plain": [
       "model.safetensors.index.json:   0%|          | 0.00/47.5k [00:00<?, ?B/s]"
      ]
     },
     "metadata": {},
     "output_type": "display_data"
    },
    {
     "data": {
      "application/vnd.jupyter.widget-view+json": {
       "model_id": "c80533ed7c6148a8b066b7f87b4e2027",
       "version_major": 2,
       "version_minor": 0
      },
      "text/plain": [
       "Downloading shards:   0%|          | 0/8 [00:00<?, ?it/s]"
      ]
     },
     "metadata": {},
     "output_type": "display_data"
    },
    {
     "data": {
      "application/vnd.jupyter.widget-view+json": {
       "model_id": "f27ffb4f454546f8a3ac67325b1d2ca6",
       "version_major": 2,
       "version_minor": 0
      },
      "text/plain": [
       "model-00001-of-00008.safetensors:   0%|          | 0.00/3.89G [00:00<?, ?B/s]"
      ]
     },
     "metadata": {},
     "output_type": "display_data"
    },
    {
     "data": {
      "application/vnd.jupyter.widget-view+json": {
       "model_id": "df34bc9def0d456a961880a810183cca",
       "version_major": 2,
       "version_minor": 0
      },
      "text/plain": [
       "model-00002-of-00008.safetensors:   0%|          | 0.00/4.00G [00:00<?, ?B/s]"
      ]
     },
     "metadata": {},
     "output_type": "display_data"
    },
    {
     "data": {
      "application/vnd.jupyter.widget-view+json": {
       "model_id": "16049aec455942b695a31d5a317cee58",
       "version_major": 2,
       "version_minor": 0
      },
      "text/plain": [
       "model-00003-of-00008.safetensors:   0%|          | 0.00/4.00G [00:00<?, ?B/s]"
      ]
     },
     "metadata": {},
     "output_type": "display_data"
    },
    {
     "data": {
      "application/vnd.jupyter.widget-view+json": {
       "model_id": "7247c189b207458b8c56358d1ab26b37",
       "version_major": 2,
       "version_minor": 0
      },
      "text/plain": [
       "model-00004-of-00008.safetensors:   0%|          | 0.00/4.00G [00:00<?, ?B/s]"
      ]
     },
     "metadata": {},
     "output_type": "display_data"
    },
    {
     "data": {
      "application/vnd.jupyter.widget-view+json": {
       "model_id": "91179cdb3663429eb5db5a2c563b8bf5",
       "version_major": 2,
       "version_minor": 0
      },
      "text/plain": [
       "model-00005-of-00008.safetensors:   0%|          | 0.00/3.98G [00:00<?, ?B/s]"
      ]
     },
     "metadata": {},
     "output_type": "display_data"
    },
    {
     "data": {
      "application/vnd.jupyter.widget-view+json": {
       "model_id": "f073ae4c55f649668640020408a9d01d",
       "version_major": 2,
       "version_minor": 0
      },
      "text/plain": [
       "model-00006-of-00008.safetensors:   0%|          | 0.00/4.00G [00:00<?, ?B/s]"
      ]
     },
     "metadata": {},
     "output_type": "display_data"
    },
    {
     "data": {
      "application/vnd.jupyter.widget-view+json": {
       "model_id": "7af0238336a3421c9da649c7dc0cd0bd",
       "version_major": 2,
       "version_minor": 0
      },
      "text/plain": [
       "model-00007-of-00008.safetensors:   0%|          | 0.00/4.00G [00:00<?, ?B/s]"
      ]
     },
     "metadata": {},
     "output_type": "display_data"
    },
    {
     "data": {
      "application/vnd.jupyter.widget-view+json": {
       "model_id": "3e00a8eaf0904c7684c9157257f1e1f7",
       "version_major": 2,
       "version_minor": 0
      },
      "text/plain": [
       "model-00008-of-00008.safetensors:   0%|          | 0.00/1.70G [00:00<?, ?B/s]"
      ]
     },
     "metadata": {},
     "output_type": "display_data"
    },
    {
     "data": {
      "application/vnd.jupyter.widget-view+json": {
       "model_id": "5842b77fdd0a48e796d3c8c2936bf759",
       "version_major": 2,
       "version_minor": 0
      },
      "text/plain": [
       "Loading checkpoint shards:   0%|          | 0/8 [00:00<?, ?it/s]"
      ]
     },
     "metadata": {},
     "output_type": "display_data"
    },
    {
     "data": {
      "application/vnd.jupyter.widget-view+json": {
       "model_id": "9e1fd26d9b7342d582d655212bf9b54a",
       "version_major": 2,
       "version_minor": 0
      },
      "text/plain": [
       "generation_config.json:   0%|          | 0.00/242 [00:00<?, ?B/s]"
      ]
     },
     "metadata": {},
     "output_type": "display_data"
    },
    {
     "data": {
      "application/vnd.jupyter.widget-view+json": {
       "model_id": "77dbbf8181d64c97a5cf9784427406f6",
       "version_major": 2,
       "version_minor": 0
      },
      "text/plain": [
       "tokenizer_config.json:   0%|          | 0.00/7.30k [00:00<?, ?B/s]"
      ]
     },
     "metadata": {},
     "output_type": "display_data"
    },
    {
     "data": {
      "application/vnd.jupyter.widget-view+json": {
       "model_id": "68bfbe08c1864d37b6a635326e10c2e3",
       "version_major": 2,
       "version_minor": 0
      },
      "text/plain": [
       "vocab.json:   0%|          | 0.00/2.78M [00:00<?, ?B/s]"
      ]
     },
     "metadata": {},
     "output_type": "display_data"
    },
    {
     "data": {
      "application/vnd.jupyter.widget-view+json": {
       "model_id": "b349c263307f4ca0a572f85a98daded7",
       "version_major": 2,
       "version_minor": 0
      },
      "text/plain": [
       "merges.txt:   0%|          | 0.00/1.67M [00:00<?, ?B/s]"
      ]
     },
     "metadata": {},
     "output_type": "display_data"
    },
    {
     "data": {
      "application/vnd.jupyter.widget-view+json": {
       "model_id": "1095c8d362654e03b9776dcd1b42c711",
       "version_major": 2,
       "version_minor": 0
      },
      "text/plain": [
       "tokenizer.json:   0%|          | 0.00/7.03M [00:00<?, ?B/s]"
      ]
     },
     "metadata": {},
     "output_type": "display_data"
    }
   ],
   "source": [
    "from transformers import AutoModelForCausalLM, AutoTokenizer\n",
    "\n",
    "model_name = \"Qwen/Qwen2.5-14B-Instruct\"\n",
    "\n",
    "model = AutoModelForCausalLM.from_pretrained(\n",
    "    model_name,\n",
    "    torch_dtype=\"auto\",\n",
    "    device_map=\"auto\"\n",
    ")\n",
    "tokenizer = AutoTokenizer.from_pretrained(model_name)\n"
   ]
  },
  {
   "cell_type": "code",
   "execution_count": 33,
   "id": "7380e752-f469-4af9-9726-25f8c6c793e8",
   "metadata": {},
   "outputs": [],
   "source": [
    "import transformers\n",
    "\n",
    "def get_response(model: transformers.AutoModelForCausalLM, prompt: str) -> str:\n",
    "    messages = [\n",
    "        {\"role\": \"system\", \"content\": \"You are Qwen, created by Alibaba Cloud. You are a helpful assistant.\"},\n",
    "        {\"role\": \"user\", \"content\": prompt}\n",
    "    ]\n",
    "    text = tokenizer.apply_chat_template(\n",
    "        messages,\n",
    "        tokenize=False,\n",
    "        add_generation_prompt=True\n",
    "    )\n",
    "    model_inputs = tokenizer([text], return_tensors=\"pt\").to(model.device)\n",
    "    \n",
    "    generated_ids = model.generate(\n",
    "        **model_inputs,\n",
    "        max_new_tokens=512\n",
    "    )\n",
    "    generated_ids = [\n",
    "        output_ids[len(input_ids):] for input_ids, output_ids in zip(model_inputs.input_ids, generated_ids)\n",
    "    ]\n",
    "    response = tokenizer.batch_decode(generated_ids, skip_special_tokens=True)[0]\n",
    "    return response\n"
   ]
  },
  {
   "cell_type": "code",
   "execution_count": 44,
   "id": "82769b1d-1e91-49c6-a729-9a0a6efe01ed",
   "metadata": {},
   "outputs": [
    {
     "name": "stderr",
     "output_type": "stream",
     "text": [
      "100%|██████████| 300/300 [00:30<00:00,  9.80it/s]\n",
      "100%|██████████| 771/771 [01:40<00:00,  7.64it/s]\n"
     ]
    }
   ],
   "source": [
    "from tqdm import tqdm\n",
    "\n",
    "for data in [crypto_retrieve_bench, crypto_qna_benchmark]:\n",
    "    responses = []\n",
    "    for idx in tqdm(range(data.shape[0])):\n",
    "        query = data.queries.iloc[idx]\n",
    "        answer = data.answers.iloc[idx]\n",
    "        prompt = f\"\"\"Evaluate the relevance of the following answer to the given query.\n",
    "Output 1 if the answer is relevant and directly addresses the query.\n",
    "Output 0 if the answer is not relevant or does not address the query. Only output 0 or 1 with no additional explanation.\n",
    "\n",
    "Query: {query}\n",
    "Answer: {answer}\n",
    "\n",
    "Output:\n",
    "\n",
    "[0 or 1]\n",
    "\"\"\"\n",
    "        responses.append(get_response(\n",
    "            model, prompt\n",
    "        ))\n",
    "    data[\"labels\"] = responses\n"
   ]
  },
  {
   "cell_type": "code",
   "execution_count": 48,
   "id": "9771ad0d-68a3-446b-8efb-27b0904256d6",
   "metadata": {},
   "outputs": [],
   "source": [
    "crypto_retrieve_bench_ft = crypto_retrieve_bench[crypto_retrieve_bench.labels == \"1\"].copy()\n"
   ]
  },
  {
   "cell_type": "code",
   "execution_count": 50,
   "id": "f42e73bd-0421-4716-bdbf-c690151536da",
   "metadata": {},
   "outputs": [],
   "source": [
    "crypto_qna_benchmark_ft = crypto_qna_benchmark[crypto_qna_benchmark.labels == \"1\"].copy()\n"
   ]
  },
  {
   "cell_type": "code",
   "execution_count": 51,
   "id": "1dfe602a-b5bb-4c53-9cc6-936eb39e1bea",
   "metadata": {},
   "outputs": [],
   "source": [
    "crypto_qna_benchmark_ft.to_csv(\n",
    "    \"/share/a.tikhonov/datasets/other_exps/qna_filtered_benchmark_ft.csv\",\n",
    "    index=False\n",
    ")\n",
    "crypto_retrieve_bench_ft.to_csv(\n",
    "    \"/share/a.tikhonov/datasets/other_exps/rag_retrieve_bench_ft.csv\",\n",
    "    index=False\n",
    ")\n"
   ]
  },
  {
   "cell_type": "markdown",
   "id": "f3705dd5-f51b-4d00-b06d-bc99c9510a09",
   "metadata": {},
   "source": [
    "# Evaluation & Metrics"
   ]
  },
  {
   "cell_type": "code",
   "execution_count": 5,
   "id": "f68e0923-19f0-4926-a8c6-c6421908a77c",
   "metadata": {},
   "outputs": [],
   "source": [
    "import numpy as np\n",
    "\n",
    "def mean_average_precision(scores, relevance):\n",
    "    num_queries, num_docs = scores.shape\n",
    "    average_precisions = []\n",
    "\n",
    "    for i in range(num_queries):\n",
    "        query_scores = scores[i]\n",
    "        query_relevance = relevance[i]\n",
    "        \n",
    "        # Sort documents by scores in descending order\n",
    "        sorted_indices = np.argsort(-query_scores)  # Negative for descending sort\n",
    "        sorted_relevance = query_relevance[sorted_indices]\n",
    "\n",
    "        precision_at_k = []\n",
    "        num_relevant = 0\n",
    "\n",
    "        for k in range(num_docs):\n",
    "            if sorted_relevance[k] == 1:\n",
    "                num_relevant += 1\n",
    "                precision = num_relevant / (k + 1) \n",
    "                precision_at_k.append(precision)\n",
    "        \n",
    "        total_relevant = np.sum(query_relevance)\n",
    "        if total_relevant > 0:\n",
    "            average_precision = np.sum(precision_at_k) / total_relevant\n",
    "        else:\n",
    "            average_precision = 0\n",
    "        \n",
    "        average_precisions.append(average_precision)\n",
    "    \n",
    "    # Calculate mean average precision\n",
    "    mean_ap = np.mean(average_precisions)\n",
    "    return mean_ap\n",
    "\n"
   ]
  },
  {
   "cell_type": "code",
   "execution_count": 6,
   "id": "88db1b17-5704-4c9d-87d5-cb3646e318c7",
   "metadata": {},
   "outputs": [],
   "source": [
    "import numpy as np\n",
    "\n",
    "def mean_reciprocal_rank_top_n(scores, relevance, N):\n",
    "    num_queries = scores.shape[0]\n",
    "    reciprocal_ranks = []\n",
    "\n",
    "    for i in range(num_queries):\n",
    "        # Sort documents by descending scores for query i\n",
    "        query_scores = scores[i]\n",
    "        query_relevance = relevance[i]\n",
    "        sorted_indices = np.argsort(-query_scores)  # Sort in descending order\n",
    "        sorted_relevance = query_relevance[sorted_indices]\n",
    "\n",
    "        # Consider only the top N documents\n",
    "        sorted_relevance_top_n = sorted_relevance[:N]\n",
    "\n",
    "        # Find the rank of the first relevant document in top N\n",
    "        first_relevant_rank = np.where(sorted_relevance_top_n == 1)[0]\n",
    "        if len(first_relevant_rank) > 0:\n",
    "            reciprocal_rank = 1 / (first_relevant_rank[0] + 1)  # +1 because ranks start at 1\n",
    "        else:\n",
    "            reciprocal_rank = 0  # No relevant documents in top N\n",
    "\n",
    "        reciprocal_ranks.append(reciprocal_rank)\n",
    "\n",
    "    # Compute the mean of reciprocal ranks\n",
    "    mrr = np.mean(reciprocal_ranks)\n",
    "    return mrr\n"
   ]
  },
  {
   "cell_type": "markdown",
   "id": "8d28a1bc-2734-4bf9-9054-529d43512ee7",
   "metadata": {},
   "source": [
    "# DPR models"
   ]
  },
  {
   "cell_type": "code",
   "execution_count": 8,
   "id": "5a487a56-19e2-44a3-9d6c-c52038d34606",
   "metadata": {},
   "outputs": [],
   "source": [
    "import pandas as pd\n",
    "\n",
    "crypto_qna_benchmark_ft = pd.read_csv(\n",
    "    \"/share/a.tikhonov/datasets/other_exps/qna_filtered_benchmark_ft.csv\"\n",
    ")\n",
    "crypto_retrieve_bench_ft = pd.read_csv(\n",
    "    \"/share/a.tikhonov/datasets/other_exps/rag_retrieve_bench_ft.csv\",\n",
    ")\n"
   ]
  },
  {
   "cell_type": "code",
   "execution_count": 9,
   "id": "d48d3788-404d-4a4f-b6e6-a600d107e542",
   "metadata": {},
   "outputs": [
    {
     "data": {
      "text/plain": [
       "((215, 3), (239, 3))"
      ]
     },
     "execution_count": 9,
     "metadata": {},
     "output_type": "execute_result"
    }
   ],
   "source": [
    "crypto_qna_benchmark_ft.shape, crypto_retrieve_bench_ft.shape\n"
   ]
  },
  {
   "cell_type": "code",
   "execution_count": 10,
   "id": "12bf770b-1d7b-4f63-912c-de286d2b0dda",
   "metadata": {},
   "outputs": [
    {
     "name": "stderr",
     "output_type": "stream",
     "text": [
      "/opt/conda/lib/python3.10/site-packages/torchvision/io/image.py:13: UserWarning: Failed to load image Python extension: libtorch_cuda_cu.so: cannot open shared object file: No such file or directory\n",
      "  warn(f\"Failed to load image Python extension: {e}\")\n"
     ]
    }
   ],
   "source": [
    "import torch\n",
    "from sentence_transformers import SentenceTransformer\n",
    "\n",
    "def get_dpr_scores(\n",
    "    model_id_or_path: str,\n",
    "    retrieval_data: pd.DataFrame,\n",
    "    \n",
    "):\n",
    "    device = torch.device(\"cuda\" if torch.cuda.is_available() else \"cpu\")\n",
    "    model = SentenceTransformer(model_id_or_path, trust_remote_code=True).to(device)\n",
    "    \n",
    "    queries_embed = model.encode(retrieval_data[\"queries\"].tolist())\n",
    "    responses_embed = model.encode(retrieval_data[\"answers\"].tolist())\n",
    "    sim_scores = model.similarity(queries_embed, responses_embed)\n",
    "    labels = torch.eye(*sim_scores.shape)\n",
    "    return {\n",
    "        \"scores\": sim_scores.numpy(),\n",
    "        \"relevance\": labels.numpy()\n",
    "    }\n",
    "\n"
   ]
  },
  {
   "cell_type": "code",
   "execution_count": 11,
   "id": "885831dc-f502-4bc8-82f4-4f51ec22bb5d",
   "metadata": {},
   "outputs": [],
   "source": [
    "def get_retrieval_metrics_dpr(\n",
    "    data: pd.DataFrame,\n",
    "    model_id_or_path: str,\n",
    "    N: int\n",
    "):\n",
    "    dpr_results = get_dpr_scores(\n",
    "        model_id_or_path,\n",
    "        data\n",
    "    )\n",
    "    map_score = mean_average_precision(**dpr_results)\n",
    "    mrr_score = mean_reciprocal_rank_top_n(dpr_results[\"scores\"], dpr_results[\"relevance\"], N)\n",
    "    print(f\"Mean Average Precision (mAP): {map_score:.4f}\")\n",
    "    print(f\"Mean Reciprocal Rank (MRR): {mrr_score:.4f}\")\n",
    "    return map_score, mrr_score\n",
    "    "
   ]
  },
  {
   "cell_type": "code",
   "execution_count": 15,
   "id": "838c999a-5c62-46f1-ae9d-f9dcc019c4a0",
   "metadata": {},
   "outputs": [],
   "source": [
    "dpr_models_sentence_transformers = [\n",
    "    'paraphrase-MiniLM-L3-v2',\n",
    "    'all-MiniLM-L6-v2',\n",
    "    'multi-qa-MiniLM-L6-cos-v1',\n",
    "    'paraphrase-multilingual-MiniLM-L12-v2',\n",
    "    'all-MiniLM-L12-v2',\n",
    "    'paraphrase-albert-small-v2',\n",
    "    'distiluse-base-multilingual-cased-v1',\n",
    "    'distiluse-base-multilingual-cased-v2',\n",
    "    'all-distilroberta-v1',\n",
    "    'multi-qa-distilbert-cos-v1',\n",
    "    'all-mpnet-base-v2',\n",
    "    'multi-qa-mpnet-base-dot-v1',\n",
    "    'paraphrase-multilingual-mpnet-base-v2',\n",
    "    # \"dunzhang/stella_en_400M_v5\",\n",
    "    # \"jinaai/jina-embeddings-v3\",\n",
    "    # \"Alibaba-NLP/gte-large-en-v1.5\",\n",
    "    # \"jxm/cde-small-v1\",\n",
    "    # \"HIT-TMG/KaLM-embedding-multilingual-mini-instruct-v1\",\n",
    "    # \"WhereIsAI/UAE-Large-V1\"\n",
    "]\n"
   ]
  },
  {
   "cell_type": "code",
   "execution_count": 16,
   "id": "a24bbb61-5643-4d0d-8e0c-532b28c74656",
   "metadata": {},
   "outputs": [
    {
     "name": "stdout",
     "output_type": "stream",
     "text": [
      "Current benchmark: cryptoqa-2024\n"
     ]
    },
    {
     "name": "stderr",
     "output_type": "stream",
     "text": [
      "  0%|          | 0/13 [00:00<?, ?it/s]"
     ]
    },
    {
     "name": "stdout",
     "output_type": "stream",
     "text": [
      "\tCurrent model: paraphrase-MiniLM-L3-v2\n"
     ]
    },
    {
     "name": "stderr",
     "output_type": "stream",
     "text": [
      "  8%|▊         | 1/13 [00:02<00:28,  2.39s/it]"
     ]
    },
    {
     "name": "stdout",
     "output_type": "stream",
     "text": [
      "Mean Average Precision (mAP): 0.2564\n",
      "Mean Reciprocal Rank (MRR): 0.2407\n",
      "\tCurrent model: all-MiniLM-L6-v2\n"
     ]
    },
    {
     "name": "stderr",
     "output_type": "stream",
     "text": [
      " 15%|█▌        | 2/13 [00:04<00:26,  2.45s/it]"
     ]
    },
    {
     "name": "stdout",
     "output_type": "stream",
     "text": [
      "Mean Average Precision (mAP): 0.4691\n",
      "Mean Reciprocal Rank (MRR): 0.4586\n",
      "\tCurrent model: multi-qa-MiniLM-L6-cos-v1\n"
     ]
    },
    {
     "name": "stderr",
     "output_type": "stream",
     "text": [
      " 23%|██▎       | 3/13 [00:07<00:25,  2.52s/it]"
     ]
    },
    {
     "name": "stdout",
     "output_type": "stream",
     "text": [
      "Mean Average Precision (mAP): 0.4348\n",
      "Mean Reciprocal Rank (MRR): 0.4209\n",
      "\tCurrent model: paraphrase-multilingual-MiniLM-L12-v2\n"
     ]
    },
    {
     "name": "stderr",
     "output_type": "stream",
     "text": [
      " 31%|███       | 4/13 [00:12<00:31,  3.52s/it]"
     ]
    },
    {
     "name": "stdout",
     "output_type": "stream",
     "text": [
      "Mean Average Precision (mAP): 0.2747\n",
      "Mean Reciprocal Rank (MRR): 0.2586\n",
      "\tCurrent model: all-MiniLM-L12-v2\n"
     ]
    },
    {
     "name": "stderr",
     "output_type": "stream",
     "text": [
      " 38%|███▊      | 5/13 [00:15<00:25,  3.18s/it]"
     ]
    },
    {
     "name": "stdout",
     "output_type": "stream",
     "text": [
      "Mean Average Precision (mAP): 0.5093\n",
      "Mean Reciprocal Rank (MRR): 0.4992\n",
      "\tCurrent model: paraphrase-albert-small-v2\n"
     ]
    },
    {
     "name": "stderr",
     "output_type": "stream",
     "text": [
      " 46%|████▌     | 6/13 [00:17<00:20,  2.97s/it]"
     ]
    },
    {
     "name": "stdout",
     "output_type": "stream",
     "text": [
      "Mean Average Precision (mAP): 0.2668\n",
      "Mean Reciprocal Rank (MRR): 0.2507\n",
      "\tCurrent model: distiluse-base-multilingual-cased-v1\n"
     ]
    },
    {
     "name": "stderr",
     "output_type": "stream",
     "text": [
      " 54%|█████▍    | 7/13 [00:20<00:17,  2.99s/it]"
     ]
    },
    {
     "name": "stdout",
     "output_type": "stream",
     "text": [
      "Mean Average Precision (mAP): 0.3057\n",
      "Mean Reciprocal Rank (MRR): 0.2914\n",
      "\tCurrent model: distiluse-base-multilingual-cased-v2\n"
     ]
    },
    {
     "name": "stderr",
     "output_type": "stream",
     "text": [
      " 62%|██████▏   | 8/13 [00:23<00:15,  3.03s/it]"
     ]
    },
    {
     "name": "stdout",
     "output_type": "stream",
     "text": [
      "Mean Average Precision (mAP): 0.3004\n",
      "Mean Reciprocal Rank (MRR): 0.2836\n",
      "\tCurrent model: all-distilroberta-v1\n"
     ]
    },
    {
     "name": "stderr",
     "output_type": "stream",
     "text": [
      " 69%|██████▉   | 9/13 [00:27<00:12,  3.19s/it]"
     ]
    },
    {
     "name": "stdout",
     "output_type": "stream",
     "text": [
      "Mean Average Precision (mAP): 0.5237\n",
      "Mean Reciprocal Rank (MRR): 0.5125\n",
      "\tCurrent model: multi-qa-distilbert-cos-v1\n"
     ]
    },
    {
     "name": "stderr",
     "output_type": "stream",
     "text": [
      " 77%|███████▋  | 10/13 [00:30<00:09,  3.09s/it]"
     ]
    },
    {
     "name": "stdout",
     "output_type": "stream",
     "text": [
      "Mean Average Precision (mAP): 0.4660\n",
      "Mean Reciprocal Rank (MRR): 0.4539\n",
      "\tCurrent model: all-mpnet-base-v2\n"
     ]
    },
    {
     "name": "stderr",
     "output_type": "stream",
     "text": [
      " 85%|████████▍ | 11/13 [00:33<00:06,  3.23s/it]"
     ]
    },
    {
     "name": "stdout",
     "output_type": "stream",
     "text": [
      "Mean Average Precision (mAP): 0.5757\n",
      "Mean Reciprocal Rank (MRR): 0.5665\n",
      "\tCurrent model: multi-qa-mpnet-base-dot-v1\n"
     ]
    },
    {
     "name": "stderr",
     "output_type": "stream",
     "text": [
      " 92%|█████████▏| 12/13 [00:37<00:03,  3.37s/it]"
     ]
    },
    {
     "name": "stdout",
     "output_type": "stream",
     "text": [
      "Mean Average Precision (mAP): 0.5159\n",
      "Mean Reciprocal Rank (MRR): 0.5051\n",
      "\tCurrent model: paraphrase-multilingual-mpnet-base-v2\n"
     ]
    },
    {
     "name": "stderr",
     "output_type": "stream",
     "text": [
      "100%|██████████| 13/13 [00:42<00:00,  3.29s/it]\n"
     ]
    },
    {
     "name": "stdout",
     "output_type": "stream",
     "text": [
      "Mean Average Precision (mAP): 0.3036\n",
      "Mean Reciprocal Rank (MRR): 0.2874\n",
      "Current benchmark: HemaChandrao/crypto_QA\n"
     ]
    },
    {
     "name": "stderr",
     "output_type": "stream",
     "text": [
      "  0%|          | 0/13 [00:00<?, ?it/s]"
     ]
    },
    {
     "name": "stdout",
     "output_type": "stream",
     "text": [
      "\tCurrent model: paraphrase-MiniLM-L3-v2\n"
     ]
    },
    {
     "name": "stderr",
     "output_type": "stream",
     "text": [
      "  8%|▊         | 1/13 [00:02<00:29,  2.43s/it]"
     ]
    },
    {
     "name": "stdout",
     "output_type": "stream",
     "text": [
      "Mean Average Precision (mAP): 0.5517\n",
      "Mean Reciprocal Rank (MRR): 0.5434\n",
      "\tCurrent model: all-MiniLM-L6-v2\n"
     ]
    },
    {
     "name": "stderr",
     "output_type": "stream",
     "text": [
      " 15%|█▌        | 2/13 [00:04<00:26,  2.45s/it]"
     ]
    },
    {
     "name": "stdout",
     "output_type": "stream",
     "text": [
      "Mean Average Precision (mAP): 0.7127\n",
      "Mean Reciprocal Rank (MRR): 0.7091\n",
      "\tCurrent model: multi-qa-MiniLM-L6-cos-v1\n"
     ]
    },
    {
     "name": "stderr",
     "output_type": "stream",
     "text": [
      " 23%|██▎       | 3/13 [00:07<00:24,  2.46s/it]"
     ]
    },
    {
     "name": "stdout",
     "output_type": "stream",
     "text": [
      "Mean Average Precision (mAP): 0.7169\n",
      "Mean Reciprocal Rank (MRR): 0.7142\n",
      "\tCurrent model: paraphrase-multilingual-MiniLM-L12-v2\n"
     ]
    },
    {
     "name": "stderr",
     "output_type": "stream",
     "text": [
      " 31%|███       | 4/13 [00:11<00:28,  3.18s/it]"
     ]
    },
    {
     "name": "stdout",
     "output_type": "stream",
     "text": [
      "Mean Average Precision (mAP): 0.5943\n",
      "Mean Reciprocal Rank (MRR): 0.5857\n",
      "\tCurrent model: all-MiniLM-L12-v2\n"
     ]
    },
    {
     "name": "stderr",
     "output_type": "stream",
     "text": [
      " 38%|███▊      | 5/13 [00:14<00:24,  3.01s/it]"
     ]
    },
    {
     "name": "stdout",
     "output_type": "stream",
     "text": [
      "Mean Average Precision (mAP): 0.7256\n",
      "Mean Reciprocal Rank (MRR): 0.7225\n",
      "\tCurrent model: paraphrase-albert-small-v2\n"
     ]
    },
    {
     "name": "stderr",
     "output_type": "stream",
     "text": [
      " 46%|████▌     | 6/13 [00:16<00:19,  2.83s/it]"
     ]
    },
    {
     "name": "stdout",
     "output_type": "stream",
     "text": [
      "Mean Average Precision (mAP): 0.6070\n",
      "Mean Reciprocal Rank (MRR): 0.6014\n",
      "\tCurrent model: distiluse-base-multilingual-cased-v1\n"
     ]
    },
    {
     "name": "stderr",
     "output_type": "stream",
     "text": [
      " 54%|█████▍    | 7/13 [00:19<00:17,  2.90s/it]"
     ]
    },
    {
     "name": "stdout",
     "output_type": "stream",
     "text": [
      "Mean Average Precision (mAP): 0.5717\n",
      "Mean Reciprocal Rank (MRR): 0.5637\n",
      "\tCurrent model: distiluse-base-multilingual-cased-v2\n"
     ]
    },
    {
     "name": "stderr",
     "output_type": "stream",
     "text": [
      " 62%|██████▏   | 8/13 [00:22<00:14,  2.91s/it]"
     ]
    },
    {
     "name": "stdout",
     "output_type": "stream",
     "text": [
      "Mean Average Precision (mAP): 0.5828\n",
      "Mean Reciprocal Rank (MRR): 0.5760\n",
      "\tCurrent model: all-distilroberta-v1\n"
     ]
    },
    {
     "name": "stderr",
     "output_type": "stream",
     "text": [
      " 69%|██████▉   | 9/13 [00:25<00:11,  2.87s/it]"
     ]
    },
    {
     "name": "stdout",
     "output_type": "stream",
     "text": [
      "Mean Average Precision (mAP): 0.7335\n",
      "Mean Reciprocal Rank (MRR): 0.7302\n",
      "\tCurrent model: multi-qa-distilbert-cos-v1\n"
     ]
    },
    {
     "name": "stderr",
     "output_type": "stream",
     "text": [
      " 77%|███████▋  | 10/13 [00:27<00:08,  2.73s/it]"
     ]
    },
    {
     "name": "stdout",
     "output_type": "stream",
     "text": [
      "Mean Average Precision (mAP): 0.7134\n",
      "Mean Reciprocal Rank (MRR): 0.7107\n",
      "\tCurrent model: all-mpnet-base-v2\n"
     ]
    },
    {
     "name": "stderr",
     "output_type": "stream",
     "text": [
      " 85%|████████▍ | 11/13 [00:30<00:05,  2.75s/it]"
     ]
    },
    {
     "name": "stdout",
     "output_type": "stream",
     "text": [
      "Mean Average Precision (mAP): 0.7983\n",
      "Mean Reciprocal Rank (MRR): 0.7969\n",
      "\tCurrent model: multi-qa-mpnet-base-dot-v1\n"
     ]
    },
    {
     "name": "stderr",
     "output_type": "stream",
     "text": [
      " 92%|█████████▏| 12/13 [00:33<00:02,  2.85s/it]"
     ]
    },
    {
     "name": "stdout",
     "output_type": "stream",
     "text": [
      "Mean Average Precision (mAP): 0.7789\n",
      "Mean Reciprocal Rank (MRR): 0.7770\n",
      "\tCurrent model: paraphrase-multilingual-mpnet-base-v2\n"
     ]
    },
    {
     "name": "stderr",
     "output_type": "stream",
     "text": [
      "100%|██████████| 13/13 [00:38<00:00,  2.96s/it]"
     ]
    },
    {
     "name": "stdout",
     "output_type": "stream",
     "text": [
      "Mean Average Precision (mAP): 0.6102\n",
      "Mean Reciprocal Rank (MRR): 0.6018\n"
     ]
    },
    {
     "name": "stderr",
     "output_type": "stream",
     "text": [
      "\n"
     ]
    }
   ],
   "source": [
    "from tqdm import tqdm\n",
    "import pandas as pd\n",
    "\n",
    "dpr_metrics = {\n",
    "    \"model_id\": [],\n",
    "    \"bench_name\": [],\n",
    "    \"mAP\": [],\n",
    "    \"MRR\": []\n",
    "}\n",
    "\n",
    "benchmarks = {\n",
    "    \"cryptoqa-2024\": crypto_qna_benchmark_ft,\n",
    "    \"HemaChandrao/crypto_QA\": crypto_retrieve_bench_ft\n",
    "}\n",
    "\n",
    "for bench_name, qna_data in benchmarks.items():\n",
    "    print(f\"Current benchmark: {bench_name}\")\n",
    "    for model_id in tqdm(dpr_models_sentence_transformers):\n",
    "        print(f\"\\tCurrent model: {model_id}\")\n",
    "        map_score, mrr_score = get_retrieval_metrics_dpr(qna_data, model_id, N=10)\n",
    "        dpr_metrics[\"model_id\"].append(model_id)\n",
    "        dpr_metrics[\"bench_name\"].append(bench_name)\n",
    "        dpr_metrics[\"mAP\"].append(map_score)\n",
    "        dpr_metrics[\"MRR\"].append(mrr_score)\n",
    "        \n",
    "\n",
    "dpr_metrics_df = pd.DataFrame(dpr_metrics)\n"
   ]
  },
  {
   "cell_type": "code",
   "execution_count": 17,
   "id": "dfe32a1f-9cc0-41f1-93d5-331e05a5c277",
   "metadata": {},
   "outputs": [
    {
     "data": {
      "text/html": [
       "<div>\n",
       "<style scoped>\n",
       "    .dataframe tbody tr th:only-of-type {\n",
       "        vertical-align: middle;\n",
       "    }\n",
       "\n",
       "    .dataframe tbody tr th {\n",
       "        vertical-align: top;\n",
       "    }\n",
       "\n",
       "    .dataframe thead th {\n",
       "        text-align: right;\n",
       "    }\n",
       "</style>\n",
       "<table border=\"1\" class=\"dataframe\">\n",
       "  <thead>\n",
       "    <tr style=\"text-align: right;\">\n",
       "      <th></th>\n",
       "      <th>model_id</th>\n",
       "      <th>bench_name</th>\n",
       "      <th>mAP</th>\n",
       "      <th>MRR</th>\n",
       "    </tr>\n",
       "  </thead>\n",
       "  <tbody>\n",
       "    <tr>\n",
       "      <th>23</th>\n",
       "      <td>all-mpnet-base-v2</td>\n",
       "      <td>HemaChandrao/crypto_QA</td>\n",
       "      <td>0.798267</td>\n",
       "      <td>0.796895</td>\n",
       "    </tr>\n",
       "    <tr>\n",
       "      <th>24</th>\n",
       "      <td>multi-qa-mpnet-base-dot-v1</td>\n",
       "      <td>HemaChandrao/crypto_QA</td>\n",
       "      <td>0.778915</td>\n",
       "      <td>0.777039</td>\n",
       "    </tr>\n",
       "    <tr>\n",
       "      <th>21</th>\n",
       "      <td>all-distilroberta-v1</td>\n",
       "      <td>HemaChandrao/crypto_QA</td>\n",
       "      <td>0.733526</td>\n",
       "      <td>0.730228</td>\n",
       "    </tr>\n",
       "    <tr>\n",
       "      <th>17</th>\n",
       "      <td>all-MiniLM-L12-v2</td>\n",
       "      <td>HemaChandrao/crypto_QA</td>\n",
       "      <td>0.725623</td>\n",
       "      <td>0.722476</td>\n",
       "    </tr>\n",
       "    <tr>\n",
       "      <th>15</th>\n",
       "      <td>multi-qa-MiniLM-L6-cos-v1</td>\n",
       "      <td>HemaChandrao/crypto_QA</td>\n",
       "      <td>0.716872</td>\n",
       "      <td>0.714196</td>\n",
       "    </tr>\n",
       "    <tr>\n",
       "      <th>22</th>\n",
       "      <td>multi-qa-distilbert-cos-v1</td>\n",
       "      <td>HemaChandrao/crypto_QA</td>\n",
       "      <td>0.713394</td>\n",
       "      <td>0.710679</td>\n",
       "    </tr>\n",
       "    <tr>\n",
       "      <th>14</th>\n",
       "      <td>all-MiniLM-L6-v2</td>\n",
       "      <td>HemaChandrao/crypto_QA</td>\n",
       "      <td>0.712731</td>\n",
       "      <td>0.709069</td>\n",
       "    </tr>\n",
       "    <tr>\n",
       "      <th>25</th>\n",
       "      <td>paraphrase-multilingual-mpnet-base-v2</td>\n",
       "      <td>HemaChandrao/crypto_QA</td>\n",
       "      <td>0.610216</td>\n",
       "      <td>0.601813</td>\n",
       "    </tr>\n",
       "    <tr>\n",
       "      <th>18</th>\n",
       "      <td>paraphrase-albert-small-v2</td>\n",
       "      <td>HemaChandrao/crypto_QA</td>\n",
       "      <td>0.607011</td>\n",
       "      <td>0.601449</td>\n",
       "    </tr>\n",
       "    <tr>\n",
       "      <th>16</th>\n",
       "      <td>paraphrase-multilingual-MiniLM-L12-v2</td>\n",
       "      <td>HemaChandrao/crypto_QA</td>\n",
       "      <td>0.594264</td>\n",
       "      <td>0.585709</td>\n",
       "    </tr>\n",
       "    <tr>\n",
       "      <th>20</th>\n",
       "      <td>distiluse-base-multilingual-cased-v2</td>\n",
       "      <td>HemaChandrao/crypto_QA</td>\n",
       "      <td>0.582778</td>\n",
       "      <td>0.575996</td>\n",
       "    </tr>\n",
       "    <tr>\n",
       "      <th>10</th>\n",
       "      <td>all-mpnet-base-v2</td>\n",
       "      <td>cryptoqa-2024</td>\n",
       "      <td>0.575693</td>\n",
       "      <td>0.566497</td>\n",
       "    </tr>\n",
       "    <tr>\n",
       "      <th>19</th>\n",
       "      <td>distiluse-base-multilingual-cased-v1</td>\n",
       "      <td>HemaChandrao/crypto_QA</td>\n",
       "      <td>0.571691</td>\n",
       "      <td>0.563731</td>\n",
       "    </tr>\n",
       "    <tr>\n",
       "      <th>13</th>\n",
       "      <td>paraphrase-MiniLM-L3-v2</td>\n",
       "      <td>HemaChandrao/crypto_QA</td>\n",
       "      <td>0.551712</td>\n",
       "      <td>0.543413</td>\n",
       "    </tr>\n",
       "    <tr>\n",
       "      <th>8</th>\n",
       "      <td>all-distilroberta-v1</td>\n",
       "      <td>cryptoqa-2024</td>\n",
       "      <td>0.523694</td>\n",
       "      <td>0.512484</td>\n",
       "    </tr>\n",
       "    <tr>\n",
       "      <th>11</th>\n",
       "      <td>multi-qa-mpnet-base-dot-v1</td>\n",
       "      <td>cryptoqa-2024</td>\n",
       "      <td>0.515863</td>\n",
       "      <td>0.505068</td>\n",
       "    </tr>\n",
       "    <tr>\n",
       "      <th>4</th>\n",
       "      <td>all-MiniLM-L12-v2</td>\n",
       "      <td>cryptoqa-2024</td>\n",
       "      <td>0.509307</td>\n",
       "      <td>0.499188</td>\n",
       "    </tr>\n",
       "    <tr>\n",
       "      <th>1</th>\n",
       "      <td>all-MiniLM-L6-v2</td>\n",
       "      <td>cryptoqa-2024</td>\n",
       "      <td>0.469071</td>\n",
       "      <td>0.458595</td>\n",
       "    </tr>\n",
       "    <tr>\n",
       "      <th>9</th>\n",
       "      <td>multi-qa-distilbert-cos-v1</td>\n",
       "      <td>cryptoqa-2024</td>\n",
       "      <td>0.466012</td>\n",
       "      <td>0.453911</td>\n",
       "    </tr>\n",
       "    <tr>\n",
       "      <th>2</th>\n",
       "      <td>multi-qa-MiniLM-L6-cos-v1</td>\n",
       "      <td>cryptoqa-2024</td>\n",
       "      <td>0.434840</td>\n",
       "      <td>0.420884</td>\n",
       "    </tr>\n",
       "    <tr>\n",
       "      <th>6</th>\n",
       "      <td>distiluse-base-multilingual-cased-v1</td>\n",
       "      <td>cryptoqa-2024</td>\n",
       "      <td>0.305668</td>\n",
       "      <td>0.291416</td>\n",
       "    </tr>\n",
       "    <tr>\n",
       "      <th>12</th>\n",
       "      <td>paraphrase-multilingual-mpnet-base-v2</td>\n",
       "      <td>cryptoqa-2024</td>\n",
       "      <td>0.303580</td>\n",
       "      <td>0.287447</td>\n",
       "    </tr>\n",
       "    <tr>\n",
       "      <th>7</th>\n",
       "      <td>distiluse-base-multilingual-cased-v2</td>\n",
       "      <td>cryptoqa-2024</td>\n",
       "      <td>0.300423</td>\n",
       "      <td>0.283640</td>\n",
       "    </tr>\n",
       "    <tr>\n",
       "      <th>3</th>\n",
       "      <td>paraphrase-multilingual-MiniLM-L12-v2</td>\n",
       "      <td>cryptoqa-2024</td>\n",
       "      <td>0.274722</td>\n",
       "      <td>0.258638</td>\n",
       "    </tr>\n",
       "    <tr>\n",
       "      <th>5</th>\n",
       "      <td>paraphrase-albert-small-v2</td>\n",
       "      <td>cryptoqa-2024</td>\n",
       "      <td>0.266766</td>\n",
       "      <td>0.250740</td>\n",
       "    </tr>\n",
       "    <tr>\n",
       "      <th>0</th>\n",
       "      <td>paraphrase-MiniLM-L3-v2</td>\n",
       "      <td>cryptoqa-2024</td>\n",
       "      <td>0.256381</td>\n",
       "      <td>0.240705</td>\n",
       "    </tr>\n",
       "  </tbody>\n",
       "</table>\n",
       "</div>"
      ],
      "text/plain": [
       "                                 model_id              bench_name       mAP  \\\n",
       "23                      all-mpnet-base-v2  HemaChandrao/crypto_QA  0.798267   \n",
       "24             multi-qa-mpnet-base-dot-v1  HemaChandrao/crypto_QA  0.778915   \n",
       "21                   all-distilroberta-v1  HemaChandrao/crypto_QA  0.733526   \n",
       "17                      all-MiniLM-L12-v2  HemaChandrao/crypto_QA  0.725623   \n",
       "15              multi-qa-MiniLM-L6-cos-v1  HemaChandrao/crypto_QA  0.716872   \n",
       "22             multi-qa-distilbert-cos-v1  HemaChandrao/crypto_QA  0.713394   \n",
       "14                       all-MiniLM-L6-v2  HemaChandrao/crypto_QA  0.712731   \n",
       "25  paraphrase-multilingual-mpnet-base-v2  HemaChandrao/crypto_QA  0.610216   \n",
       "18             paraphrase-albert-small-v2  HemaChandrao/crypto_QA  0.607011   \n",
       "16  paraphrase-multilingual-MiniLM-L12-v2  HemaChandrao/crypto_QA  0.594264   \n",
       "20   distiluse-base-multilingual-cased-v2  HemaChandrao/crypto_QA  0.582778   \n",
       "10                      all-mpnet-base-v2           cryptoqa-2024  0.575693   \n",
       "19   distiluse-base-multilingual-cased-v1  HemaChandrao/crypto_QA  0.571691   \n",
       "13                paraphrase-MiniLM-L3-v2  HemaChandrao/crypto_QA  0.551712   \n",
       "8                    all-distilroberta-v1           cryptoqa-2024  0.523694   \n",
       "11             multi-qa-mpnet-base-dot-v1           cryptoqa-2024  0.515863   \n",
       "4                       all-MiniLM-L12-v2           cryptoqa-2024  0.509307   \n",
       "1                        all-MiniLM-L6-v2           cryptoqa-2024  0.469071   \n",
       "9              multi-qa-distilbert-cos-v1           cryptoqa-2024  0.466012   \n",
       "2               multi-qa-MiniLM-L6-cos-v1           cryptoqa-2024  0.434840   \n",
       "6    distiluse-base-multilingual-cased-v1           cryptoqa-2024  0.305668   \n",
       "12  paraphrase-multilingual-mpnet-base-v2           cryptoqa-2024  0.303580   \n",
       "7    distiluse-base-multilingual-cased-v2           cryptoqa-2024  0.300423   \n",
       "3   paraphrase-multilingual-MiniLM-L12-v2           cryptoqa-2024  0.274722   \n",
       "5              paraphrase-albert-small-v2           cryptoqa-2024  0.266766   \n",
       "0                 paraphrase-MiniLM-L3-v2           cryptoqa-2024  0.256381   \n",
       "\n",
       "         MRR  \n",
       "23  0.796895  \n",
       "24  0.777039  \n",
       "21  0.730228  \n",
       "17  0.722476  \n",
       "15  0.714196  \n",
       "22  0.710679  \n",
       "14  0.709069  \n",
       "25  0.601813  \n",
       "18  0.601449  \n",
       "16  0.585709  \n",
       "20  0.575996  \n",
       "10  0.566497  \n",
       "19  0.563731  \n",
       "13  0.543413  \n",
       "8   0.512484  \n",
       "11  0.505068  \n",
       "4   0.499188  \n",
       "1   0.458595  \n",
       "9   0.453911  \n",
       "2   0.420884  \n",
       "6   0.291416  \n",
       "12  0.287447  \n",
       "7   0.283640  \n",
       "3   0.258638  \n",
       "5   0.250740  \n",
       "0   0.240705  "
      ]
     },
     "execution_count": 17,
     "metadata": {},
     "output_type": "execute_result"
    }
   ],
   "source": [
    "dpr_metrics_df.sort_values([\"mAP\", \"MRR\"], ascending=[False, False])\n"
   ]
  },
  {
   "cell_type": "code",
   "execution_count": 14,
   "id": "c29397c9-c3f9-411a-b9f2-dfddd4524ea5",
   "metadata": {},
   "outputs": [
    {
     "data": {
      "text/html": [
       "<div>\n",
       "<style scoped>\n",
       "    .dataframe tbody tr th:only-of-type {\n",
       "        vertical-align: middle;\n",
       "    }\n",
       "\n",
       "    .dataframe tbody tr th {\n",
       "        vertical-align: top;\n",
       "    }\n",
       "\n",
       "    .dataframe thead th {\n",
       "        text-align: right;\n",
       "    }\n",
       "</style>\n",
       "<table border=\"1\" class=\"dataframe\">\n",
       "  <thead>\n",
       "    <tr style=\"text-align: right;\">\n",
       "      <th></th>\n",
       "      <th>model_id</th>\n",
       "      <th>bench_name</th>\n",
       "      <th>mAP</th>\n",
       "      <th>MRR</th>\n",
       "    </tr>\n",
       "  </thead>\n",
       "  <tbody>\n",
       "    <tr>\n",
       "      <th>8</th>\n",
       "      <td>HIT-TMG/KaLM-embedding-multilingual-mini-instr...</td>\n",
       "      <td>HemaChandrao/crypto_QA</td>\n",
       "      <td>0.818385</td>\n",
       "      <td>0.817797</td>\n",
       "    </tr>\n",
       "    <tr>\n",
       "      <th>5</th>\n",
       "      <td>jinaai/jina-embeddings-v3</td>\n",
       "      <td>HemaChandrao/crypto_QA</td>\n",
       "      <td>0.807477</td>\n",
       "      <td>0.805951</td>\n",
       "    </tr>\n",
       "    <tr>\n",
       "      <th>6</th>\n",
       "      <td>Alibaba-NLP/gte-large-en-v1.5</td>\n",
       "      <td>HemaChandrao/crypto_QA</td>\n",
       "      <td>0.779034</td>\n",
       "      <td>0.777258</td>\n",
       "    </tr>\n",
       "    <tr>\n",
       "      <th>9</th>\n",
       "      <td>WhereIsAI/UAE-Large-V1</td>\n",
       "      <td>HemaChandrao/crypto_QA</td>\n",
       "      <td>0.754700</td>\n",
       "      <td>0.752776</td>\n",
       "    </tr>\n",
       "    <tr>\n",
       "      <th>1</th>\n",
       "      <td>Alibaba-NLP/gte-large-en-v1.5</td>\n",
       "      <td>cryptoqa-2024</td>\n",
       "      <td>0.631214</td>\n",
       "      <td>0.623856</td>\n",
       "    </tr>\n",
       "    <tr>\n",
       "      <th>3</th>\n",
       "      <td>HIT-TMG/KaLM-embedding-multilingual-mini-instr...</td>\n",
       "      <td>cryptoqa-2024</td>\n",
       "      <td>0.608928</td>\n",
       "      <td>0.602966</td>\n",
       "    </tr>\n",
       "    <tr>\n",
       "      <th>0</th>\n",
       "      <td>jinaai/jina-embeddings-v3</td>\n",
       "      <td>cryptoqa-2024</td>\n",
       "      <td>0.608519</td>\n",
       "      <td>0.601709</td>\n",
       "    </tr>\n",
       "    <tr>\n",
       "      <th>4</th>\n",
       "      <td>WhereIsAI/UAE-Large-V1</td>\n",
       "      <td>cryptoqa-2024</td>\n",
       "      <td>0.554994</td>\n",
       "      <td>0.547885</td>\n",
       "    </tr>\n",
       "    <tr>\n",
       "      <th>7</th>\n",
       "      <td>jxm/cde-small-v1</td>\n",
       "      <td>HemaChandrao/crypto_QA</td>\n",
       "      <td>0.240464</td>\n",
       "      <td>0.224688</td>\n",
       "    </tr>\n",
       "    <tr>\n",
       "      <th>2</th>\n",
       "      <td>jxm/cde-small-v1</td>\n",
       "      <td>cryptoqa-2024</td>\n",
       "      <td>0.155341</td>\n",
       "      <td>0.136702</td>\n",
       "    </tr>\n",
       "  </tbody>\n",
       "</table>\n",
       "</div>"
      ],
      "text/plain": [
       "                                            model_id              bench_name  \\\n",
       "8  HIT-TMG/KaLM-embedding-multilingual-mini-instr...  HemaChandrao/crypto_QA   \n",
       "5                          jinaai/jina-embeddings-v3  HemaChandrao/crypto_QA   \n",
       "6                      Alibaba-NLP/gte-large-en-v1.5  HemaChandrao/crypto_QA   \n",
       "9                             WhereIsAI/UAE-Large-V1  HemaChandrao/crypto_QA   \n",
       "1                      Alibaba-NLP/gte-large-en-v1.5           cryptoqa-2024   \n",
       "3  HIT-TMG/KaLM-embedding-multilingual-mini-instr...           cryptoqa-2024   \n",
       "0                          jinaai/jina-embeddings-v3           cryptoqa-2024   \n",
       "4                             WhereIsAI/UAE-Large-V1           cryptoqa-2024   \n",
       "7                                   jxm/cde-small-v1  HemaChandrao/crypto_QA   \n",
       "2                                   jxm/cde-small-v1           cryptoqa-2024   \n",
       "\n",
       "        mAP       MRR  \n",
       "8  0.818385  0.817797  \n",
       "5  0.807477  0.805951  \n",
       "6  0.779034  0.777258  \n",
       "9  0.754700  0.752776  \n",
       "1  0.631214  0.623856  \n",
       "3  0.608928  0.602966  \n",
       "0  0.608519  0.601709  \n",
       "4  0.554994  0.547885  \n",
       "7  0.240464  0.224688  \n",
       "2  0.155341  0.136702  "
      ]
     },
     "execution_count": 14,
     "metadata": {},
     "output_type": "execute_result"
    }
   ],
   "source": [
    "dpr_metrics_df.sort_values([\"mAP\", \"MRR\"], ascending=[False, False])\n"
   ]
  },
  {
   "cell_type": "code",
   "execution_count": null,
   "id": "7717b3ec-c8cd-4a48-8453-1cbeb0fbba0f",
   "metadata": {},
   "outputs": [],
   "source": []
  },
  {
   "cell_type": "code",
   "execution_count": null,
   "id": "6a8feaca-54bf-4c0e-bce8-6572065d5ef1",
   "metadata": {},
   "outputs": [],
   "source": []
  },
  {
   "cell_type": "markdown",
   "id": "940424c4-9896-4a21-9f31-6628c737fc4d",
   "metadata": {},
   "source": [
    "# CrossEncoders"
   ]
  },
  {
   "cell_type": "code",
   "execution_count": null,
   "id": "a48d0e10-156a-4d60-9818-ccf0d9c42291",
   "metadata": {},
   "outputs": [],
   "source": [
    "from sentence_transformers.cross_encoder import CrossEncoder\n",
    "\n",
    "model = CrossEncoder(\"cross-encoder/stsb-distilroberta-base\")\n",
    "\n",
    "sentence_combinations = [[query, sentence] for sentence in corpus]\n",
    "# scores = model.predict(sentence_combinations)\n"
   ]
  },
  {
   "cell_type": "code",
   "execution_count": null,
   "id": "b475fa6d-13c7-433c-a3bc-608c2b447529",
   "metadata": {},
   "outputs": [],
   "source": []
  }
 ],
 "metadata": {
  "kernelspec": {
   "display_name": "Python 3 (ipykernel)",
   "language": "python",
   "name": "python3"
  },
  "language_info": {
   "codemirror_mode": {
    "name": "ipython",
    "version": 3
   },
   "file_extension": ".py",
   "mimetype": "text/x-python",
   "name": "python",
   "nbconvert_exporter": "python",
   "pygments_lexer": "ipython3",
   "version": "3.10.8"
  }
 },
 "nbformat": 4,
 "nbformat_minor": 5
}
