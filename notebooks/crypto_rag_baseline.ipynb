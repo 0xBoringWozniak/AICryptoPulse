{
  "nbformat": 4,
  "nbformat_minor": 0,
  "metadata": {
    "colab": {
      "provenance": []
    },
    "kernelspec": {
      "name": "python3",
      "display_name": "Python 3"
    },
    "language_info": {
      "name": "python"
    }
  },
  "cells": [
    {
      "cell_type": "code",
      "source": [
        "!pip install jq -q\n"
      ],
      "metadata": {
        "colab": {
          "base_uri": "https://localhost:8080/"
        },
        "id": "BW5lVw6asHOm",
        "outputId": "db29c13b-9459-40cf-d293-0aa44e9d586d"
      },
      "execution_count": null,
      "outputs": [
        {
          "output_type": "stream",
          "name": "stdout",
          "text": [
            "\u001b[?25l   \u001b[90m━━━━━━━━━━━━━━━━━━━━━━━━━━━━━━━━━━━━━━━━\u001b[0m \u001b[32m0.0/737.4 kB\u001b[0m \u001b[31m?\u001b[0m eta \u001b[36m-:--:--\u001b[0m\r\u001b[2K   \u001b[91m━━━━━━━━━━━━━━━━━━━━━━━━━━━━\u001b[0m\u001b[91m╸\u001b[0m\u001b[90m━━━━━━━━━━━\u001b[0m \u001b[32m532.5/737.4 kB\u001b[0m \u001b[31m16.0 MB/s\u001b[0m eta \u001b[36m0:00:01\u001b[0m\r\u001b[2K   \u001b[90m━━━━━━━━━━━━━━━━━━━━━━━━━━━━━━━━━━━━━━━━\u001b[0m \u001b[32m737.4/737.4 kB\u001b[0m \u001b[31m10.2 MB/s\u001b[0m eta \u001b[36m0:00:00\u001b[0m\n",
            "\u001b[?25h"
          ]
        }
      ]
    },
    {
      "cell_type": "code",
      "execution_count": null,
      "metadata": {
        "colab": {
          "base_uri": "https://localhost:8080/"
        },
        "id": "zSc8TCKqj6NX",
        "outputId": "071e779f-3f3b-4e08-d3f1-3e099fa1be36"
      },
      "outputs": [
        {
          "output_type": "stream",
          "name": "stdout",
          "text": [
            "Mounted at gdrive\n"
          ]
        }
      ],
      "source": [
        "from google.colab import drive\n",
        "\n",
        "drive.mount(\"gdrive\")\n"
      ]
    },
    {
      "cell_type": "code",
      "source": [
        "!pip install langchain -q\n",
        "!pip install langchain-core -q\n",
        "!pip install langchain-community -q\n",
        "!pip install -q langchain_gigachat\n",
        "\n",
        "\n",
        "from langchain_community.document_loaders import JSONLoader\n"
      ],
      "metadata": {
        "colab": {
          "base_uri": "https://localhost:8080/"
        },
        "id": "sCKtY8N8tjEB",
        "outputId": "3bc2600b-67aa-4496-e3db-839cd6594f3c"
      },
      "execution_count": null,
      "outputs": [
        {
          "output_type": "stream",
          "name": "stdout",
          "text": [
            "\u001b[2K   \u001b[90m━━━━━━━━━━━━━━━━━━━━━━━━━━━━━━━━━━━━━━━━\u001b[0m \u001b[32m2.4/2.4 MB\u001b[0m \u001b[31m32.2 MB/s\u001b[0m eta \u001b[36m0:00:00\u001b[0m\n",
            "\u001b[2K   \u001b[90m━━━━━━━━━━━━━━━━━━━━━━━━━━━━━━━━━━━━━━━━\u001b[0m \u001b[32m1.0/1.0 MB\u001b[0m \u001b[31m27.1 MB/s\u001b[0m eta \u001b[36m0:00:00\u001b[0m\n",
            "\u001b[2K   \u001b[90m━━━━━━━━━━━━━━━━━━━━━━━━━━━━━━━━━━━━━━━━\u001b[0m \u001b[32m409.5/409.5 kB\u001b[0m \u001b[31m21.1 MB/s\u001b[0m eta \u001b[36m0:00:00\u001b[0m\n",
            "\u001b[2K   \u001b[90m━━━━━━━━━━━━━━━━━━━━━━━━━━━━━━━━━━━━━━━━\u001b[0m \u001b[32m3.1/3.1 MB\u001b[0m \u001b[31m40.8 MB/s\u001b[0m eta \u001b[36m0:00:00\u001b[0m\n",
            "\u001b[2K   \u001b[90m━━━━━━━━━━━━━━━━━━━━━━━━━━━━━━━━━━━━━━━━\u001b[0m \u001b[32m49.5/49.5 kB\u001b[0m \u001b[31m3.0 MB/s\u001b[0m eta \u001b[36m0:00:00\u001b[0m\n",
            "\u001b[?25h"
          ]
        }
      ]
    },
    {
      "cell_type": "code",
      "source": [
        "import pickle\n",
        "\n",
        "with open(\"/content/gdrive/MyDrive/Studying/events.pkl\", \"rb\") as f:\n",
        "    data = pickle.load(f)\n"
      ],
      "metadata": {
        "id": "jkMr3d31w0dF"
      },
      "execution_count": null,
      "outputs": []
    },
    {
      "cell_type": "code",
      "source": [
        "def parse_data(data):\n",
        "    news_data = {\n",
        "        \"type\": [],\n",
        "        \"guid\": [],\n",
        "        \"title\": [],\n",
        "        \"content\": [],\n",
        "        \"link\": [],\n",
        "        \"pub_date\": [],\n",
        "        \"topic\": [],\n",
        "        \"sentiment\": []\n",
        "    }\n",
        "\n",
        "    tweet_data = {\n",
        "        \"type\": [],\n",
        "        \"tweet_id\": [],\n",
        "        \"url\": [],\n",
        "        \"tweet_created_at\": [],\n",
        "        \"tweet\": [],\n",
        "        \"user_name\": [],\n",
        "        \"user_handle\": [],\n",
        "        \"sentiment\": []\n",
        "    }\n",
        "\n",
        "\n",
        "\n",
        "    for data_ent in data:\n",
        "        if data_ent[\"type\"] == \"news\":\n",
        "            news_data[\"type\"].append(data_ent[\"type\"])\n",
        "            for key in data_ent[\"data\"].keys():\n",
        "                if key not in [\"entities\"]:\n",
        "                    news_data[key].append(data_ent[\"data\"][key])\n",
        "        else:\n",
        "            tweet_data[\"type\"].append(data_ent[\"type\"])\n",
        "            for key in data_ent[\"data\"].keys():\n",
        "                tweet_data[key].append(data_ent[\"data\"][key])\n",
        "\n",
        "    assert len(tweet_data[\"type\"]) + len(news_data[\"type\"]) == len(data)\n",
        "\n",
        "    return {\n",
        "        \"news\": news_data,\n",
        "        \"tweets\": tweet_data\n",
        "    }\n"
      ],
      "metadata": {
        "id": "U9KHNzdplgdM"
      },
      "execution_count": null,
      "outputs": []
    },
    {
      "cell_type": "code",
      "source": [
        "data = parse_data(data)\n"
      ],
      "metadata": {
        "id": "FzhPSo0qmba0"
      },
      "execution_count": null,
      "outputs": []
    },
    {
      "cell_type": "code",
      "source": [
        "data[0]"
      ],
      "metadata": {
        "colab": {
          "base_uri": "https://localhost:8080/"
        },
        "id": "1ke2kkjWPz9t",
        "outputId": "1fc4222d-acaf-415e-c31f-6b7cd8025c5e"
      },
      "execution_count": null,
      "outputs": [
        {
          "output_type": "execute_result",
          "data": {
            "text/plain": [
              "{'type': 'news',\n",
              " 'data': {'guid': 'QTCX3BSV4FGYVNQWN6GPR5BEQA',\n",
              "  'title': 'Tether CEO Ardoino Says He Expects U.S. Will Catch Up in Crypto Regulation',\n",
              "  'content': 'Tether CEO Paolo Ardoino told a U.S. crowd on Tuesday that he\\'s counting on sensible crypto regulations coming soon from the U.S. \"There is no place like the U.S.,\" he said via video link at DC Fintech Week in Washington.',\n",
              "  'link': 'https://www.coindesk.com/policy/2024/10/22/tether-ceo-ardoino-says-he-expects-us-will-catch-up-in-crypto-regulation/?utm_medium=referral&utm_source=rss&utm_campaign=headlines',\n",
              "  'pub_date': datetime.datetime(2024, 10, 22, 18, 23, 41, tzinfo=datetime.timezone.utc),\n",
              "  'topic': 'Regulation and Compliance',\n",
              "  'sentiment': 'positive',\n",
              "  'entities': ['Tether',\n",
              "   'Paolo Ardoino',\n",
              "   'U.S.',\n",
              "   'DC Fintech Week',\n",
              "   'Washington']}}"
            ]
          },
          "metadata": {},
          "execution_count": 100
        }
      ]
    },
    {
      "cell_type": "code",
      "source": [
        "data[-1]"
      ],
      "metadata": {
        "colab": {
          "base_uri": "https://localhost:8080/"
        },
        "id": "cBugDgWQQk4b",
        "outputId": "b99106bf-c763-4b25-afe5-fd5ebeda0afc"
      },
      "execution_count": null,
      "outputs": [
        {
          "output_type": "execute_result",
          "data": {
            "text/plain": [
              "{'type': 'tweet',\n",
              " 'data': {'tweet_id': '1858918984919204351',\n",
              "  'tweet_created_at': datetime.datetime(2024, 11, 19, 17, 3, 18, 216000, tzinfo=datetime.timezone.utc),\n",
              "  'tweet': 'cbBTC is live on @arbitrum. cbBTC is an ERC-20 token that is backed 1:1 by Bitcoin (BTC) held by Coinbase. It is natively available on Arbitrum and securely accessible to more users across the Ethereum ecosystem. Start using cbBTC on day one ↓',\n",
              "  'url': 'https://twitter.com/coinbase/status/1858918984919204351',\n",
              "  'user_name': 'Coinbase 🛡️',\n",
              "  'user_handle': 'coinbase',\n",
              "  'sentiment': 'positive'}}"
            ]
          },
          "metadata": {},
          "execution_count": 101
        }
      ]
    },
    {
      "cell_type": "code",
      "source": [
        "import pandas as pd\n",
        "\n",
        "news_data = pd.DataFrame(data[\"news\"])\n",
        "tweets_data = pd.DataFrame(data[\"tweets\"])\n"
      ],
      "metadata": {
        "id": "w3hpKvXbks70"
      },
      "execution_count": null,
      "outputs": []
    },
    {
      "cell_type": "code",
      "source": [
        "tweets_data.to_csv(\n",
        "    \"/content/gdrive/MyDrive/Studying/tweets_data.csv\", index=False\n",
        ")\n"
      ],
      "metadata": {
        "id": "oeTNUXRvpilL"
      },
      "execution_count": null,
      "outputs": []
    },
    {
      "cell_type": "code",
      "source": [
        "news_data.to_csv(\n",
        "    \"/content/gdrive/MyDrive/Studying/news_data.csv\", index=False\n",
        ")\n"
      ],
      "metadata": {
        "id": "w0CXJIPYo2yj"
      },
      "execution_count": null,
      "outputs": []
    },
    {
      "cell_type": "code",
      "source": [
        "from langchain_community.document_loaders.csv_loader import CSVLoader\n",
        "\n",
        "news_loader = CSVLoader(file_path=\"/content/gdrive/MyDrive/Studying/news_data.csv\")\n",
        "tweets_loader = CSVLoader(file_path=\"/content/gdrive/MyDrive/Studying/tweets_data.csv\")\n",
        "\n",
        "news_docs = news_loader.load()\n",
        "tweets_docs = tweets_loader.load()\n",
        "\n"
      ],
      "metadata": {
        "id": "gvlMP3e6yWVp"
      },
      "execution_count": null,
      "outputs": []
    },
    {
      "cell_type": "code",
      "source": [
        "assert (len(news_docs) + len(tweets_docs)) == (len(data[\"news\"][\"type\"]) + len(data[\"tweets\"][\"type\"]))\n"
      ],
      "metadata": {
        "id": "LoztwqxQy3pj"
      },
      "execution_count": null,
      "outputs": []
    },
    {
      "cell_type": "code",
      "source": [
        "print(news_docs[0].page_content[:1000])\n",
        "print()\n",
        "print(tweets_docs[0].page_content[:1000])"
      ],
      "metadata": {
        "colab": {
          "base_uri": "https://localhost:8080/"
        },
        "id": "2H2jXdOq0FNa",
        "outputId": "e6a5b7d7-0225-4cef-8137-0cfd31a9b15d"
      },
      "execution_count": null,
      "outputs": [
        {
          "output_type": "stream",
          "name": "stdout",
          "text": [
            "type: news\n",
            "guid: QTCX3BSV4FGYVNQWN6GPR5BEQA\n",
            "title: Tether CEO Ardoino Says He Expects U.S. Will Catch Up in Crypto Regulation\n",
            "content: Tether CEO Paolo Ardoino told a U.S. crowd on Tuesday that he's counting on sensible crypto regulations coming soon from the U.S. \"There is no place like the U.S.,\" he said via video link at DC Fintech Week in Washington.\n",
            "link: https://www.coindesk.com/policy/2024/10/22/tether-ceo-ardoino-says-he-expects-us-will-catch-up-in-crypto-regulation/?utm_medium=referral&utm_source=rss&utm_campaign=headlines\n",
            "pub_date: 2024-10-22 18:23:41+00:00\n",
            "topic: Regulation and Compliance\n",
            "sentiment: positive\n",
            "\n",
            "type: tweet\n",
            "tweet_id: 1848796310335357145\n",
            "url: https://twitter.com/TheBlock__/status/1848796310335357145\n",
            "tweet_created_at: 2024-10-22 18:39:24.299000+00:00\n",
            "tweet: Notcoin founder says Binance and ‘poor guys from nowhere' are chasing success with Telegram games\n",
            "user_name: The Block\n",
            "user_handle: TheBlock__\n",
            "sentiment: negative\n"
          ]
        }
      ]
    },
    {
      "cell_type": "code",
      "source": [
        "news_length = [len(news_docs[i].page_content) for i in range(len(news_docs))]\n",
        "print(f\"Max length news: {max(news_length)}\")\n",
        "\n",
        "tweets_length = [len(tweets_docs[i].page_content) for i in range(len(tweets_docs))]\n",
        "print(f\"Max length tweets: {max(tweets_length)}\")\n"
      ],
      "metadata": {
        "colab": {
          "base_uri": "https://localhost:8080/"
        },
        "id": "je_GNNpy0X2b",
        "outputId": "e0d1d0d6-a4a7-4a86-e83c-1d8864889f52"
      },
      "execution_count": null,
      "outputs": [
        {
          "output_type": "stream",
          "name": "stdout",
          "text": [
            "Max length news: 871\n",
            "Max length tweets: 2093\n"
          ]
        }
      ]
    },
    {
      "cell_type": "code",
      "source": [
        "from langchain_text_splitters import RecursiveCharacterTextSplitter\n",
        "\n",
        "text_splitter = RecursiveCharacterTextSplitter(\n",
        "    chunk_size=500,\n",
        "    chunk_overlap=200,\n",
        "    add_start_index=True,\n",
        ")\n",
        "\n",
        "news_all_splits = text_splitter.split_documents(news_docs)\n",
        "tweets_all_splits = text_splitter.split_documents(tweets_docs)\n",
        "\n",
        "print(f\"Split news into {len(news_all_splits)} sub-documents.\")\n",
        "print(f\"Split tweets into {len(tweets_all_splits)} sub-documents.\")\n"
      ],
      "metadata": {
        "colab": {
          "base_uri": "https://localhost:8080/"
        },
        "id": "49NUGo2h0-K0",
        "outputId": "842672d0-b94c-43f8-f9cf-572db68a9c59"
      },
      "execution_count": null,
      "outputs": [
        {
          "output_type": "stream",
          "name": "stdout",
          "text": [
            "Split news into 1085 sub-documents.\n",
            "Split tweets into 929 sub-documents.\n"
          ]
        }
      ]
    },
    {
      "cell_type": "code",
      "source": [
        "from tqdm.autonotebook import tqdm, trange\n",
        "\n",
        "from langchain_core.vectorstores import InMemoryVectorStore\n",
        "\n",
        "from sentence_transformers import SentenceTransformer\n",
        "\n",
        "class EmbeddingModelWrapper:\n",
        "    def __init__(self, model_name):\n",
        "        self.model = SentenceTransformer(model_name)\n",
        "\n",
        "    def embed_documents(self, texts):\n",
        "        return self.model.encode(texts).tolist()\n",
        "\n",
        "    def embed_query(self, text):\n",
        "        return self.model.encode([text])[0].tolist()\n",
        "\n",
        "\n",
        "embedding_wrapper = EmbeddingModelWrapper(\"all-MiniLM-L6-v2\")\n",
        "\n",
        "vector_store = InMemoryVectorStore(embedding=embedding_wrapper)\n",
        "news_docs_ids = vector_store.add_documents(documents=news_all_splits)\n",
        "tweets_docs_ids = vector_store.add_documents(documents=tweets_all_splits)\n",
        "\n",
        "print(news_docs_ids[:3])\n"
      ],
      "metadata": {
        "colab": {
          "base_uri": "https://localhost:8080/"
        },
        "id": "xpe-tDPQ16YW",
        "outputId": "c5d47823-e345-4883-839e-0ffe86de4e73"
      },
      "execution_count": null,
      "outputs": [
        {
          "output_type": "stream",
          "name": "stdout",
          "text": [
            "['9fa3ff13-265d-4e14-9916-0d5cdf3deadf', '85530795-ef61-48f1-a09a-5663ef8e60c4', 'e73a01f3-c768-4f63-b57e-e1876140c2ec']\n"
          ]
        }
      ]
    },
    {
      "cell_type": "code",
      "source": [
        "from langchain import hub\n",
        "\n",
        "prompt_template = hub.pull(\"rlm/rag-prompt\")\n",
        "\n",
        "example_messages = prompt_template.invoke(\n",
        "    {\"context\": \"(context goes here)\", \"question\": \"(question goes here)\"}\n",
        ").to_messages()\n",
        "\n",
        "assert len(example_messages) == 1\n",
        "print(example_messages[0].content)\n"
      ],
      "metadata": {
        "colab": {
          "base_uri": "https://localhost:8080/"
        },
        "id": "Oce9W0C_2E92",
        "outputId": "6966c5e9-d6e8-491c-888c-74f8ef961ad2"
      },
      "execution_count": null,
      "outputs": [
        {
          "output_type": "stream",
          "name": "stderr",
          "text": [
            "/usr/local/lib/python3.10/dist-packages/langsmith/client.py:241: LangSmithMissingAPIKeyWarning: API key must be provided when using hosted LangSmith API\n",
            "  warnings.warn(\n"
          ]
        },
        {
          "output_type": "stream",
          "name": "stdout",
          "text": [
            "You are an assistant for question-answering tasks. Use the following pieces of retrieved context to answer the question. If you don't know the answer, just say that you don't know. Use three sentences maximum and keep the answer concise.\n",
            "Question: (question goes here) \n",
            "Context: (context goes here) \n",
            "Answer:\n"
          ]
        }
      ]
    },
    {
      "cell_type": "code",
      "source": [
        "print(example_messages[0].content)\n"
      ],
      "metadata": {
        "colab": {
          "base_uri": "https://localhost:8080/"
        },
        "id": "lmQS7f7hF9kv",
        "outputId": "cbf1d84c-10ab-486a-d06e-f726fccfd613"
      },
      "execution_count": null,
      "outputs": [
        {
          "output_type": "stream",
          "name": "stdout",
          "text": [
            "You are an assistant for question-answering tasks. Use the following pieces of retrieved context to answer the question. If you don't know the answer, just say that you don't know. Use three sentences maximum and keep the answer concise.\n",
            "Question: (question goes here) \n",
            "Context: (context goes here) \n",
            "Answer:\n"
          ]
        }
      ]
    },
    {
      "cell_type": "code",
      "source": [
        "import os\n",
        "from getpass import getpass\n",
        "\n",
        "from langchain_gigachat import GigaChat\n",
        "\n",
        "if \"GIGACHAT_CREDENTIALS\" not in os.environ:\n",
        "    os.environ[\"GIGACHAT_CREDENTIALS\"] = getpass()\n",
        "\n",
        "llm = GigaChat(verify_ssl_certs=False, scope=\"GIGACHAT_API_PERS\")\n"
      ],
      "metadata": {
        "colab": {
          "base_uri": "https://localhost:8080/"
        },
        "id": "oDPx-s33HElv",
        "outputId": "ea316e10-0a7b-4dbf-8667-daf466a9dd9a"
      },
      "execution_count": null,
      "outputs": [
        {
          "name": "stdout",
          "output_type": "stream",
          "text": [
            "··········\n"
          ]
        }
      ]
    },
    {
      "cell_type": "code",
      "source": [
        "question = \"Give me top 10 best cryptocurrence on 2024?\"\n",
        "\n",
        "retrieved_docs = vector_store.similarity_search(question)\n",
        "docs_content = \"\\n\\n\".join(doc.page_content for doc in retrieved_docs)\n",
        "\n",
        "prompt = prompt_template.invoke({\"question\": question, \"context\": docs_content})\n",
        "answer = llm.invoke(prompt)\n"
      ],
      "metadata": {
        "id": "bzWZetFg5tez"
      },
      "execution_count": null,
      "outputs": []
    },
    {
      "cell_type": "code",
      "source": [
        "print(prompt.messages[0].content)\n"
      ],
      "metadata": {
        "colab": {
          "base_uri": "https://localhost:8080/"
        },
        "id": "Zek5lgQM5ulx",
        "outputId": "ca5492ca-bb71-4c3f-cc3b-8233c1de799e"
      },
      "execution_count": null,
      "outputs": [
        {
          "output_type": "stream",
          "name": "stdout",
          "text": [
            "You are an assistant for question-answering tasks. Use the following pieces of retrieved context to answer the question. If you don't know the answer, just say that you don't know. Use three sentences maximum and keep the answer concise.\n",
            "Question: Give me top 10 best cryptocurrence on 2024? \n",
            "Context: type: news\n",
            "guid: RBS6MB7REZGGJBPYGZYFI5XKHE\n",
            "title: The Real Winner of the 2024 Elections: The Crypto Industry\n",
            "content: The 2024 elections marked a significant turning point for the crypto industry, with a pro-crypto president-elect advocating for the U.S. as the \"crypto capital of the planet,\" paving the way for a shift from regulatory enforcement to a clearer, more predictable regulatory framework that will facilitate mainstream adoption and innovation in the sector, says Christopher Perkins.\n",
            "\n",
            "type: news\n",
            "guid: ZRKFPCJQFFAUXJSYRYHHLOAIPY\n",
            "title: The Many Ways Crypto Won in This Election\n",
            "content: The dust is starting to clear on the election and no one won bigger than crypto. Aubrey Strobel looks at how the new Trump Administration could help the industry moving forward.\n",
            "link: https://www.coindesk.com/opinion/2024/11/15/the-many-ways-crypto-won-in-this-election/?utm_medium=referral&utm_source=rss&utm_campaign=headlines\n",
            "pub_date: 2024-11-15 18:19:58+00:00\n",
            "\n",
            "type: news\n",
            "guid: NOJO4QST7ZEXZINJWPSUIZZLDE\n",
            "title: What Does Trump's Win Mean for Crypto?\n",
            "content: Donald Trump and the Republican Party at large had a strong 2024 election, winning the presidency, Senate and House. This almost certainly guarantees crypto legislation will advance and become law sometime in the next two years. It also heralds a potentially softer approach from regulators toward the sector.\n",
            "\n",
            "content: Cryptocurrency price milestones continue to topple in the aftermath of Donald Trump's election victory, as bitcoin on Friday surpassed $77,000 for the first time\n",
            "link: https://www.coindesk.com/markets/2024/11/08/bitcoin-hits-another-milestone-topping-77k-for-first-time-funding-rates-suggest-crypto-rally-can-keep-going/?utm_medium=referral&utm_source=rss&utm_campaign=headlines\n",
            "pub_date: 2024-11-08 21:00:51+00:00\n",
            "topic: Market Trends\n",
            "sentiment: positive \n",
            "Answer:\n"
          ]
        }
      ]
    },
    {
      "cell_type": "code",
      "source": [
        "print(answer.content)\n"
      ],
      "metadata": {
        "colab": {
          "base_uri": "https://localhost:8080/"
        },
        "id": "MgmlOoBVIFxy",
        "outputId": "b1790576-1081-4d31-a092-61927d19169b"
      },
      "execution_count": null,
      "outputs": [
        {
          "output_type": "stream",
          "name": "stdout",
          "text": [
            "I don't know the top 10 best cryptocurrencies for 2024. Predicting future rankings is complex and subject to market dynamics beyond any static context. Please consult up-to-date resources or experts in the field for this information.\n"
          ]
        }
      ]
    },
    {
      "cell_type": "code",
      "source": [],
      "metadata": {
        "id": "niGdokwBGX6w"
      },
      "execution_count": null,
      "outputs": []
    }
  ]
}